{
 "cells": [
  {
   "cell_type": "code",
   "execution_count": 1,
   "id": "b94567fb",
   "metadata": {},
   "outputs": [],
   "source": [
    "import numpy as np\n",
    "from scipy import linalg\n",
    "import matplotlib.pyplot as plt\n",
    "import seaborn as sns\n",
    "\n",
    "np.set_printoptions(linewidth=np.inf, threshold=np.inf)\n",
    "\n",
    "# ベクトル画像形式の SVG でグラフを出力する\n",
    "#import matplotlib_inline.backend_inline\n",
    "#matplotlib_inline.backend_inline.set_matplotlib_formats(\"svg\")"
   ]
  },
  {
   "cell_type": "code",
   "execution_count": null,
   "id": "2cf1c4a8",
   "metadata": {},
   "outputs": [],
   "source": [
    "# pipでインストールせずに、ローカルの ohkubolib を使う場合は以下のコードを有効にする\n",
    "import sys\n",
    "from pathlib import Path\n",
    "\n",
    "path = str(Path.cwd() / 'ohkubolib')\n",
    "if path not in sys.path:\n",
    "    sys.path.append(path)"
   ]
  },
  {
   "cell_type": "code",
   "execution_count": null,
   "id": "c0896f74",
   "metadata": {},
   "outputs": [],
   "source": [
    "model_file = 'data/models/vdp.json'"
   ]
  },
  {
   "cell_type": "code",
   "execution_count": 4,
   "id": "1f88bd1c",
   "metadata": {},
   "outputs": [
    {
     "name": "stdout",
     "output_type": "stream",
     "text": [
      "Models.NoisyVanDerPol (ODE)\n",
      "name: vdp\n"
     ]
    },
    {
     "data": {
      "text/latex": [
       "$\\displaystyle dx_{1}(t) = \\left(x_{2}\\right) dt$"
      ],
      "text/plain": [
       "<IPython.core.display.Math object>"
      ]
     },
     "metadata": {},
     "output_type": "display_data"
    },
    {
     "data": {
      "text/latex": [
       "$\\displaystyle dx_{2}(t) = \\left(- x_{1} + 1.0 x_{2} \\left(1.0 - x_{1}^{2}\\right)\\right) dt$"
      ],
      "text/plain": [
       "<IPython.core.display.Math object>"
      ]
     },
     "metadata": {},
     "output_type": "display_data"
    }
   ],
   "source": [
    "from ohkubolib.model import SDEModel\n",
    "import ohkubolib.datamodel as dm\n",
    "\n",
    "model = dm.load_json(SDEModel, model_file)\n",
    "\n",
    "model.print_subs_model()"
   ]
  },
  {
   "cell_type": "code",
   "execution_count": null,
   "id": "065f6d75",
   "metadata": {},
   "outputs": [],
   "source": [
    "from ohkubolib.time_evolution import TEConfig\n",
    "\n",
    "max_order = 2\n",
    "conf = TEConfig(\n",
    "    x0=np.array([1.0] * model.dim),\n",
    "    dt=0.001,\n",
    "    dt_obs=0.01,\n",
    "    t_f=0.01,\n",
    ")"
   ]
  },
  {
   "cell_type": "code",
   "execution_count": null,
   "id": "3f36d3af",
   "metadata": {},
   "outputs": [
    {
     "data": {
      "text/plain": [
       "array([[1.        ],\n",
       "       [1.00994916]])"
      ]
     },
     "execution_count": 6,
     "metadata": {},
     "output_type": "execute_result"
    }
   ],
   "source": [
    "from ohkubolib.koopman import KronMonomial as Monomial, Dual\n",
    "\n",
    "solver = Dual(dim=model.dim, order=max_order, comp_index=[1,0])\n",
    "stats = solver(model=model, config=conf)"
   ]
  },
  {
   "cell_type": "code",
   "execution_count": 7,
   "id": "78a2da6a",
   "metadata": {},
   "outputs": [],
   "source": [
    "from ohkubolib.koopman import KronMonomial as Monomial, DualKoopman\n",
    "\n",
    "solver = DualKoopman(dim=model.dim, order=2)\n",
    "K = solver(model=model, config=conf)"
   ]
  }
 ],
 "metadata": {
  "kernelspec": {
   "display_name": "kishimoto-tensortrain-RM8bBviU-py3.12",
   "language": "python",
   "name": "python3"
  },
  "language_info": {
   "codemirror_mode": {
    "name": "ipython",
    "version": 3
   },
   "file_extension": ".py",
   "mimetype": "text/x-python",
   "name": "python",
   "nbconvert_exporter": "python",
   "pygments_lexer": "ipython3",
   "version": "3.12.4"
  }
 },
 "nbformat": 4,
 "nbformat_minor": 5
}
